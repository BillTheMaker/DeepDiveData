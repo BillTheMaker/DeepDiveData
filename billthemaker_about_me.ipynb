{
  "nbformat": 4,
  "nbformat_minor": 0,
  "metadata": {
    "colab": {
      "provenance": [],
      "toc_visible": true,
      "authorship_tag": "ABX9TyNsPNzWuvgRVZNOdEdu0t9+",
      "include_colab_link": true
    },
    "kernelspec": {
      "name": "python3",
      "display_name": "Python 3"
    },
    "language_info": {
      "name": "python"
    }
  },
  "cells": [
    {
      "cell_type": "markdown",
      "metadata": {
        "id": "view-in-github",
        "colab_type": "text"
      },
      "source": [
        "<a href=\"https://colab.research.google.com/github/BillTheMaker/DeepDiveData/blob/main/billthemaker_about_me.ipynb\" target=\"_parent\"><img src=\"https://colab.research.google.com/assets/colab-badge.svg\" alt=\"Open In Colab\"/></a>"
      ]
    },
    {
      "cell_type": "code",
      "execution_count": 15,
      "metadata": {
        "colab": {
          "base_uri": "https://localhost:8080/"
        },
        "id": "vw4MxNHXSxuc",
        "outputId": "b7dc025b-df96-462f-ea0d-9336b064687e"
      },
      "outputs": [
        {
          "output_type": "stream",
          "name": "stdout",
          "text": [
            "Hello! What is your name?\n",
            "NoneBill\n",
            "Hello Bill\n"
          ]
        }
      ],
      "source": [
        "you = input(print('Hello! What is your name?'))\n",
        "print('Hello ' + you)"
      ]
    },
    {
      "cell_type": "markdown",
      "source": [
        "# Billthemaker\n",
        "**I Make things**\n",
        "[a silly website about me](https://google.com)\n"
      ],
      "metadata": {
        "id": "xZZqZ2i6S_Ze"
      }
    },
    {
      "cell_type": "code",
      "source": [
        "print('Hi ' + you + ' thanks for your interest')\n",
        "make = input(print('do you like to make stuff? respond yes or no'))\n",
        "def respond(make):\n",
        "  if make == 'yes':\n",
        "    print('me too! Visit my website for tips and tricks on how to make a lot of things')\n",
        "  else:\n",
        "    print('Well I do! visit my webstore for a list of things I can make for you, so you don\\'t have to')\n",
        "respond(make)"
      ],
      "metadata": {
        "colab": {
          "base_uri": "https://localhost:8080/"
        },
        "id": "pjGvBLfxT8R5",
        "outputId": "6bd75b98-0d8b-4b01-94b8-c8410e895e8b"
      },
      "execution_count": 17,
      "outputs": [
        {
          "output_type": "stream",
          "name": "stdout",
          "text": [
            "Hi Bill thanks for your interest\n",
            "do you like to make stuff? respond yes or no\n",
            "Noneno\n",
            "Well I do! visit my webstore for a list of things I can make for you, so you don't have to\n"
          ]
        }
      ]
    },
    {
      "cell_type": "markdown",
      "source": [
        "#includes\n",
        "my website includes:\n",
        "*   things to buy\n",
        "*   things to make\n",
        "*   a webtool on making your own shop, starting from where you are and what you have\n",
        "\n",
        "\n"
      ],
      "metadata": {
        "id": "KBTIecmJVd9K"
      }
    },
    {
      "cell_type": "code",
      "source": [
        "import matplotlib.pyplot as plt\n",
        "import pandas as pd\n"
      ],
      "metadata": {
        "id": "SVs77_SbbitD"
      },
      "execution_count": null,
      "outputs": []
    },
    {
      "cell_type": "markdown",
      "source": [
        "| Me       | You      |\n",
        "| -------- | -------- |\n",
        "|makes     | ?        |\n",
        "|friendly  | ?        |"
      ],
      "metadata": {
        "id": "8-BdYmvRWhRQ"
      }
    },
    {
      "cell_type": "code",
      "source": [
        "print('thanks for visiting!')"
      ],
      "metadata": {
        "colab": {
          "base_uri": "https://localhost:8080/"
        },
        "id": "E1ZnsLHzV5Cu",
        "outputId": "c8e07b17-3b08-4a0b-9d30-81b1a17a9b98"
      },
      "execution_count": 12,
      "outputs": [
        {
          "output_type": "stream",
          "name": "stdout",
          "text": [
            "thanks for visiting!\n"
          ]
        }
      ]
    },
    {
      "cell_type": "markdown",
      "source": [],
      "metadata": {
        "id": "GeOGLDNZWD3m"
      }
    }
  ]
}